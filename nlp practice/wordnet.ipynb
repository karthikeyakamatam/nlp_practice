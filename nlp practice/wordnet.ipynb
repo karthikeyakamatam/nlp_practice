{
 "cells": [
  {
   "cell_type": "code",
   "execution_count": 2,
   "id": "403d310a",
   "metadata": {},
   "outputs": [
    {
     "name": "stderr",
     "output_type": "stream",
     "text": [
      "[nltk_data] Downloading package omw.1.4 to\n",
      "[nltk_data]     C:\\Users\\user\\AppData\\Roaming\\nltk_data...\n",
      "[nltk_data]   Package omw-1.4 is already up-to-date!\n"
     ]
    },
    {
     "ename": "AttributeError",
     "evalue": "'Synset' object has no attribute 'defination'",
     "output_type": "error",
     "traceback": [
      "\u001b[1;31m---------------------------------------------------------------------------\u001b[0m",
      "\u001b[1;31mAttributeError\u001b[0m                            Traceback (most recent call last)",
      "Cell \u001b[1;32mIn[2], line 6\u001b[0m\n\u001b[0;32m      4\u001b[0m owi\u001b[38;5;241m=\u001b[39m\u001b[38;5;124m'\u001b[39m\u001b[38;5;124mown\u001b[39m\u001b[38;5;124m'\u001b[39m\n\u001b[0;32m      5\u001b[0m syntrees\u001b[38;5;241m=\u001b[39mwordnet\u001b[38;5;241m.\u001b[39msynsets(owi)\n\u001b[1;32m----> 6\u001b[0m a\u001b[38;5;241m=\u001b[39m\u001b[43msyntrees\u001b[49m\u001b[43m[\u001b[49m\u001b[38;5;241;43m0\u001b[39;49m\u001b[43m]\u001b[49m\u001b[38;5;241;43m.\u001b[39;49m\u001b[43mdefination\u001b[49m()\n\u001b[0;32m      7\u001b[0m \u001b[38;5;28mprint\u001b[39m(a)\n\u001b[0;32m      8\u001b[0m b\u001b[38;5;241m=\u001b[39msyntrees[\u001b[38;5;241m1\u001b[39m]\u001b[38;5;241m.\u001b[39mdefination()\n",
      "\u001b[1;31mAttributeError\u001b[0m: 'Synset' object has no attribute 'defination'"
     ]
    }
   ],
   "source": [
    "import nltk\n",
    "from nltk.corpus import wordnet\n",
    "nltk.download('omw-1.4')\n",
    "owi='own'\n",
    "syntrees=wordnet.synsets(owi)\n",
    "a=syntrees[0].defination()\n",
    "print(a)\n",
    "b=syntrees[1].defination()\n",
    "a.name()\n",
    "a.hypernyms()\n",
    "a.hyepernyms()[0].defination()"
   ]
  },
  {
   "cell_type": "code",
   "execution_count": null,
   "id": "b51bd32a",
   "metadata": {},
   "outputs": [],
   "source": []
  }
 ],
 "metadata": {
  "kernelspec": {
   "display_name": "Python 3 (ipykernel)",
   "language": "python",
   "name": "python3"
  },
  "language_info": {
   "codemirror_mode": {
    "name": "ipython",
    "version": 3
   },
   "file_extension": ".py",
   "mimetype": "text/x-python",
   "name": "python",
   "nbconvert_exporter": "python",
   "pygments_lexer": "ipython3",
   "version": "3.11.5"
  }
 },
 "nbformat": 4,
 "nbformat_minor": 5
}
