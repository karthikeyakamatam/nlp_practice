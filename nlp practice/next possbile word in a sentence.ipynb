{
 "cells": [
  {
   "cell_type": "code",
   "execution_count": 3,
   "id": "6d6c8cae",
   "metadata": {},
   "outputs": [
    {
     "name": "stderr",
     "output_type": "stream",
     "text": [
      "[nltk_data] Downloading package punkt to\n",
      "[nltk_data]     C:\\Users\\user\\AppData\\Roaming\\nltk_data...\n",
      "[nltk_data]   Package punkt is already up-to-date!\n"
     ]
    },
    {
     "name": "stdout",
     "output_type": "stream",
     "text": [
      "enter a sentecnei was i will i was i can\n",
      "enter words sepearated by space i\n",
      "{'was': 0.5, 'will': 0.25, 'can': 0.25}\n",
      "next probable word is : was\n"
     ]
    }
   ],
   "source": [
    "import nltk\n",
    "import random as ran\n",
    "from collections import defaultdict,Counter\n",
    "nltk.download('punkt')\n",
    "def pred_next_word(pre_words,model):\n",
    "    last_word=pre_words[-1]\n",
    "    if last_word not in model:\n",
    "        return None\n",
    "    next_word_prob=model[last_word]\n",
    "    print(model[last_word])\n",
    "    next_word=max(next_word_prob,key=next_word_prob.get)\n",
    "    return next_word\n",
    "sent=input(\"enter a sentecne\")\n",
    "tokens=nltk.word_tokenize(sent.lower())\n",
    "bi_gram=list(nltk.bigrams(tokens))\n",
    "pair_freq=defaultdict(int)\n",
    "for pair in bi_gram:\n",
    "    pair_freq[pair]+=1\n",
    "total_word_count=Counter()\n",
    "for (w1,w2) in bi_gram:\n",
    "    total_word_count[w1]+=1\n",
    "model=defaultdict(dict)\n",
    "for(w1,w2),freq in pair_freq.items():\n",
    "    model[w1][w2]=freq/total_word_count[w1]\n",
    "prev_words=input('enter words sepearated by space ').lower().split()\n",
    "next_word=pred_next_word(prev_words,model)\n",
    "print(\"next probable word is :\",next_word)\n"
   ]
  },
  {
   "cell_type": "code",
   "execution_count": null,
   "id": "eec40498",
   "metadata": {},
   "outputs": [],
   "source": []
  }
 ],
 "metadata": {
  "kernelspec": {
   "display_name": "Python 3 (ipykernel)",
   "language": "python",
   "name": "python3"
  },
  "language_info": {
   "codemirror_mode": {
    "name": "ipython",
    "version": 3
   },
   "file_extension": ".py",
   "mimetype": "text/x-python",
   "name": "python",
   "nbconvert_exporter": "python",
   "pygments_lexer": "ipython3",
   "version": "3.11.5"
  }
 },
 "nbformat": 4,
 "nbformat_minor": 5
}
