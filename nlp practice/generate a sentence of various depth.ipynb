{
 "cells": [
  {
   "cell_type": "code",
   "execution_count": 5,
   "id": "7f510649",
   "metadata": {},
   "outputs": [
    {
     "name": "stdout",
     "output_type": "stream",
     "text": [
      "the man slept\n",
      "the man saw the man\n",
      "the man saw the park\n",
      "the man saw the dog\n",
      "the man saw a man\n",
      "the man saw a park\n",
      "the man saw a dog\n",
      "the man walked in the man\n",
      "the man walked in the park\n",
      "the man walked in the dog\n",
      "6\n"
     ]
    },
    {
     "data": {
      "text/plain": [
       "114"
      ]
     },
     "execution_count": 5,
     "metadata": {},
     "output_type": "execute_result"
    }
   ],
   "source": [
    "from nltk.parse.generate import demo_grammar,generate\n",
    "from nltk import CFG\n",
    "grammar=CFG.fromstring(demo_grammar)\n",
    "for sentence in generate(grammar,n=10):\n",
    "    print(' '.join(sentence))\n",
    "print(len(list(generate(grammar,depth=4))))\n",
    "len(list(generate(grammar,depth=6)))"
   ]
  },
  {
   "cell_type": "code",
   "execution_count": null,
   "id": "84d6d546",
   "metadata": {},
   "outputs": [],
   "source": []
  }
 ],
 "metadata": {
  "kernelspec": {
   "display_name": "Python 3 (ipykernel)",
   "language": "python",
   "name": "python3"
  },
  "language_info": {
   "codemirror_mode": {
    "name": "ipython",
    "version": 3
   },
   "file_extension": ".py",
   "mimetype": "text/x-python",
   "name": "python",
   "nbconvert_exporter": "python",
   "pygments_lexer": "ipython3",
   "version": "3.11.5"
  }
 },
 "nbformat": 4,
 "nbformat_minor": 5
}
