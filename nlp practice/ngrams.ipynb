{
 "cells": [
  {
   "cell_type": "code",
   "execution_count": 2,
   "id": "34c7fd21",
   "metadata": {},
   "outputs": [
    {
     "name": "stdout",
     "output_type": "stream",
     "text": [
      "enter a sentencehi this is karthik\n",
      "unigram for the given sentecne is : \n",
      "[['hi'], ['this'], ['is'], ['karthik']]\n"
     ]
    }
   ],
   "source": [
    "def n_gram_model(corpus,n):\n",
    "    words=corpus.split()\n",
    "    output=[]\n",
    "    for i in range(len(words)-n+1):\n",
    "        output.append(words[i:i+n])\n",
    "    return output\n",
    "sentence=input('enter a sentence')\n",
    "print('unigram for the given sentecne is : ')\n",
    "ngram=n_gram_model(sentence,1)\n",
    "print(ngram)"
   ]
  },
  {
   "cell_type": "markdown",
   "id": "92c96849",
   "metadata": {},
   "source": [
    "# ngram using the built in functions\n"
   ]
  },
  {
   "cell_type": "code",
   "execution_count": 4,
   "id": "22ea6c10",
   "metadata": {},
   "outputs": [
    {
     "name": "stdout",
     "output_type": "stream",
     "text": [
      "enter a sentecnehi this is ram\n",
      "('hi',)\n",
      "('this',)\n",
      "('is',)\n",
      "('ram',)\n"
     ]
    }
   ],
   "source": [
    "from nltk import ngrams\n",
    "sentence=input('enter a sentecne')\n",
    "unigram=ngrams(sentence.split(),1)\n",
    "for grams in unigram:\n",
    "    print(grams)"
   ]
  },
  {
   "cell_type": "code",
   "execution_count": null,
   "id": "a1adc11c",
   "metadata": {},
   "outputs": [],
   "source": []
  }
 ],
 "metadata": {
  "kernelspec": {
   "display_name": "Python 3 (ipykernel)",
   "language": "python",
   "name": "python3"
  },
  "language_info": {
   "codemirror_mode": {
    "name": "ipython",
    "version": 3
   },
   "file_extension": ".py",
   "mimetype": "text/x-python",
   "name": "python",
   "nbconvert_exporter": "python",
   "pygments_lexer": "ipython3",
   "version": "3.11.5"
  }
 },
 "nbformat": 4,
 "nbformat_minor": 5
}
