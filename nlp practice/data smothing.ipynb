{
 "cells": [
  {
   "cell_type": "code",
   "execution_count": 1,
   "id": "9bd52ad6",
   "metadata": {},
   "outputs": [],
   "source": [
    "import numpy as np\n",
    "from collections import defaultdict\n",
    "import pandas as pd"
   ]
  },
  {
   "cell_type": "code",
   "execution_count": 5,
   "id": "a4297a34",
   "metadata": {},
   "outputs": [
    {
     "name": "stdout",
     "output_type": "stream",
     "text": [
      "Bi-gram probability before smoothing\n",
      "        eos    I  booked    a  flight  took\n",
      "eos       0    0       0    0     600     0\n",
      "I       300    0       0    0       0     0\n",
      "booked    0  300       0    0       0     0\n",
      "a         0    0     300    0       0   300\n",
      "flight    0    0       0  600       0     0\n",
      "took    300    0       0    0       0     0\n",
      "/n\n",
      "Bi-gram probability after smoothing\n",
      "             eos         I    booked         a    flight      took\n",
      "eos     0.001664  0.500832  0.001664  0.001664  0.001664  0.500832\n",
      "I       0.003322  0.003322  1.000000  0.003322  0.003322  0.003322\n",
      "booked  0.003322  0.003322  0.003322  1.000000  0.003322  0.003322\n",
      "a       0.001664  0.001664  0.001664  0.001664  1.000000  0.001664\n",
      "flight  1.000000  0.001664  0.001664  0.001664  0.001664  0.001664\n",
      "took    0.003322  0.003322  0.003322  1.000000  0.003322  0.003322\n"
     ]
    }
   ],
   "source": [
    "# Define the bigram count matrix\n",
    "bigram_counts = {\n",
    "'eos': {'eos': 0, 'I': 300, 'booked': 0, 'a': 0, 'flight': 0, 'took': 300},\n",
    "'I': {'eos': 0, 'I': 0, 'booked': 300, 'a': 0, 'flight': 0, 'took': 0},\n",
    "'booked': {'eos': 0, 'I': 0, 'booked': 0, 'a': 300, 'flight': 0, 'took': 0},\n",
    "'a': {'eos': 0, 'I': 0, 'booked': 0, 'a': 0, 'flight': 600, 'took': 0},\n",
    "'flight': {'eos': 600, 'I': 0, 'booked': 0, 'a': 0, 'flight': 0, 'took': 0},\n",
    "'took': {'eos': 0, 'I': 0, 'booked': 0, 'a': 300, 'flight': 0, 'took': 0}\n",
    "}\n",
    "# Vocabulary\n",
    "vocab = list(bigram_counts.keys())\n",
    "vocab_size = len(vocab)\n",
    "# Additive smoothing parameter\n",
    "alpha = 1\n",
    "# Initialize smoothed bigram probabilities\n",
    "bigram_probabilities = defaultdict(lambda: defaultdict(float))\n",
    "# Apply additive smoothing\n",
    "for word1 in vocab:\n",
    "    total_count = sum(bigram_counts[word1].values())\n",
    "    for word2 in vocab:\n",
    "        count = bigram_counts[word1][word2]\n",
    "        bigram_probabilities[word1][word2] = (count + alpha) / (total_count + alpha)\n",
    "# Convert to a more readable format\n",
    "bigram_prob_matrix = np.zeros((vocab_size, vocab_size))\n",
    "word_to_index = {word: i for i, word in enumerate(vocab)}\n",
    "for word1 in vocab:\n",
    "    for word2 in vocab:\n",
    "        bigram_prob_matrix[word_to_index[word1], word_to_index[word2]] = bigram_probabilities[word1][word2]\n",
    "print(\"Bi-gram probability before smoothing\")\n",
    "df1=pd.DataFrame(bigram_counts, index=vocab, columns=vocab)\n",
    "print(df1)\n",
    "print(\"/n\")\n",
    "# Print the smoothed bigram probabilities matrix\n",
    "print(\"Bi-gram probability after smoothing\")\n",
    "df = pd.DataFrame(bigram_prob_matrix, index=vocab, columns=vocab)\n",
    "print(df)"
   ]
  },
  {
   "cell_type": "code",
   "execution_count": null,
   "id": "cef15f80",
   "metadata": {},
   "outputs": [],
   "source": []
  }
 ],
 "metadata": {
  "kernelspec": {
   "display_name": "Python 3 (ipykernel)",
   "language": "python",
   "name": "python3"
  },
  "language_info": {
   "codemirror_mode": {
    "name": "ipython",
    "version": 3
   },
   "file_extension": ".py",
   "mimetype": "text/x-python",
   "name": "python",
   "nbconvert_exporter": "python",
   "pygments_lexer": "ipython3",
   "version": "3.11.5"
  }
 },
 "nbformat": 4,
 "nbformat_minor": 5
}
