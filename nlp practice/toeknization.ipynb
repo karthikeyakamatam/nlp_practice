{
 "cells": [
  {
   "cell_type": "code",
   "execution_count": 8,
   "id": "29a77512",
   "metadata": {},
   "outputs": [
    {
     "name": "stdout",
     "output_type": "stream",
     "text": [
      "['hi', 'this', 'is', 'karthik', 'and', 'i', 'am', 'from', 'india.i', 'am', 'studying', 'in', 'btech']\n",
      "\n",
      "\n",
      "['hi', 'this', 'is', 'karthik', 'and', 'i', 'am', 'from', 'india.i', 'am', 'studying', 'in', 'btech']\n",
      "\n",
      "\n",
      "['hi this is karthik and i am from india.i am studying in btech']\n"
     ]
    },
    {
     "name": "stderr",
     "output_type": "stream",
     "text": [
      "[nltk_data] Downloading package punkt to\n",
      "[nltk_data]     C:\\Users\\user\\AppData\\Roaming\\nltk_data...\n",
      "[nltk_data]   Package punkt is already up-to-date!\n"
     ]
    }
   ],
   "source": [
    "import nltk\n",
    "nltk.download('punkt')\n",
    "from nltk import word_tokenize\n",
    "from nltk import sent_tokenize\n",
    "text=\"hi this is karthik and i am from india.i am studying in btech\"\n",
    "t=text.split(' ')\n",
    "tokes=nltk.word_tokenize(text)\n",
    "sent=nltk.sent_tokenize(text)\n",
    "print(t)\n",
    "print('\\n')\n",
    "print(tokes)\n",
    "print('\\n')\n",
    "print(sent)\n"
   ]
  },
  {
   "cell_type": "markdown",
   "id": "29c792cd",
   "metadata": {},
   "source": [
    "# normalizing stemming lemmatization"
   ]
  },
  {
   "cell_type": "code",
   "execution_count": 30,
   "id": "dccde0f0",
   "metadata": {},
   "outputs": [
    {
     "name": "stdout",
     "output_type": "stream",
     "text": [
      "['list', 'list', 'list', 'list']\n",
      "['list', 'list', 'listed', 'listing']\n"
     ]
    },
    {
     "name": "stderr",
     "output_type": "stream",
     "text": [
      "[nltk_data] Downloading package wordnet to\n",
      "[nltk_data]     C:\\Users\\user\\AppData\\Roaming\\nltk_data...\n",
      "[nltk_data]   Package wordnet is already up-to-date!\n",
      "[nltk_data] Downloading package omw-1.4 to\n",
      "[nltk_data]     C:\\Users\\user\\AppData\\Roaming\\nltk_data...\n",
      "[nltk_data]   Package omw-1.4 is already up-to-date!\n"
     ]
    }
   ],
   "source": [
    "nltk.download('wordnet')\n",
    "nltk.download('omw-1.4')\n",
    "w1=\"list,lists,listed,listing\"\n",
    "words=w1.lower().split(',')\n",
    "st=nltk.PorterStemmer()\n",
    "o=[st.stem(t) for t in words]\n",
    "print(o)\n",
    "wt=nltk.WordNetLemmatizer()\n",
    "p=[wt.lemmatize(t) for t in words]\n",
    "print(p)"
   ]
  },
  {
   "cell_type": "code",
   "execution_count": 32,
   "id": "1c736105",
   "metadata": {},
   "outputs": [
    {
     "name": "stdout",
     "output_type": "stream",
     "text": [
      "['Universal', 'Declaration', 'of', 'Human', 'Rights', 'Preamble', 'Whereas', 'recognition', 'of', 'the']\n",
      "['univers', 'declar', 'of', 'human', 'right', 'preambl', 'wherea', 'recognit', 'of', 'the']\n",
      "['Universal', 'Declaration', 'of', 'Human', 'Rights', 'Preamble', 'Whereas', 'recognition', 'of', 'the']\n"
     ]
    },
    {
     "name": "stderr",
     "output_type": "stream",
     "text": [
      "[nltk_data] Downloading package udhr to\n",
      "[nltk_data]     C:\\Users\\user\\AppData\\Roaming\\nltk_data...\n",
      "[nltk_data]   Package udhr is already up-to-date!\n"
     ]
    }
   ],
   "source": [
    "nltk.download('udhr')\n",
    "udhr=nltk.corpus.udhr.words('English-Latin1')\n",
    "print(udhr[:10])\n",
    "print([st.stem(t) for t in udhr[:10]])\n",
    "print([wt.lemmatize(t) for t in udhr[:10]])\n",
    "                "
   ]
  },
  {
   "cell_type": "code",
   "execution_count": 34,
   "id": "5b99a260",
   "metadata": {},
   "outputs": [
    {
     "name": "stderr",
     "output_type": "stream",
     "text": [
      "[nltk_data] Downloading package averaged_perceptron_tagger to\n",
      "[nltk_data]     C:\\Users\\user\\AppData\\Roaming\\nltk_data...\n",
      "[nltk_data]   Unzipping taggers\\averaged_perceptron_tagger.zip.\n"
     ]
    },
    {
     "name": "stdout",
     "output_type": "stream",
     "text": [
      "[('swaminathan', 'NN'), ('is', 'VBZ'), ('a', 'DT'), ('good', 'JJ'), ('boy', 'NN'), ('stdunying', 'VBG'), ('in', 'IN'), ('his', 'PRP$'), ('class', 'NN'), ('with', 'IN'), ('his', 'PRP$'), ('friends', 'NNS')]\n"
     ]
    }
   ],
   "source": [
    "nltk.download('averaged_perceptron_tagger')\n",
    "text1=\"swaminathan is a good boy stdunying in his class with his friends\"\n",
    "toekns=nltk.word_tokenize(text1)\n",
    "pstag=nltk.pos_tag(toekns)\n",
    "print(pstag)"
   ]
  },
  {
   "cell_type": "code",
   "execution_count": null,
   "id": "865393c5",
   "metadata": {},
   "outputs": [],
   "source": []
  }
 ],
 "metadata": {
  "kernelspec": {
   "display_name": "Python 3 (ipykernel)",
   "language": "python",
   "name": "python3"
  },
  "language_info": {
   "codemirror_mode": {
    "name": "ipython",
    "version": 3
   },
   "file_extension": ".py",
   "mimetype": "text/x-python",
   "name": "python",
   "nbconvert_exporter": "python",
   "pygments_lexer": "ipython3",
   "version": "3.11.5"
  }
 },
 "nbformat": 4,
 "nbformat_minor": 5
}
